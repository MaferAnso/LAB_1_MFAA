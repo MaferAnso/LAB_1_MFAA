{
 "cells": [
  {
   "cell_type": "code",
   "execution_count": null,
   "metadata": {},
   "outputs": [],
   "source": [
    "# import needed libraries\n",
    "import pandas as pd\n",
    "import matplotlib.pyplot as plt\n",
    "from pandas_datareader import data as web\n"
   ]
  },
  {
   "cell_type": "code",
   "execution_count": null,
   "metadata": {},
   "outputs": [],
   "source": [
    "# Modificar el tiempo y de donde sacar los precios\n",
    "# Make function for calls to Yahoo Finance\n",
    "def get_adj_close(ticker, start, end):\n",
    "    '''\n",
    "    A function that takes ticker symbols, starting period, ending period\n",
    "    as arguments and returns with a Pandas DataFrame of the Adjusted Close Prices\n",
    "    for the tickers from Yahoo Finance\n",
    "    '''\n",
    "    start = start\n",
    "    end = end\n",
    "    info = web.DataReader(ticker, data_source='yahoo', start=start, end=end)['Adj Close']\n",
    "    return pd.DataFrame(info)\n",
    "\n",
    "# Get Adjusted Closing Prices for Facebook, Tesla and Amazon between 2016-2017\n",
    "fb = get_adj_close('fb', '1/2/2016', '31/12/2017')\n",
    "tesla = get_adj_close('tsla', '1/2/2016', '31/12/2017')\n",
    "amazon = get_adj_close('amzn', '1/2/2016', '31/12/2017')\n",
    "\n",
    "# Calculate 30 Day Moving Average, Std Deviation, Upper Band and Lower Band\n",
    "for item in (fb, tesla, amazon):\n",
    "    item['30 Day MA'] = item['Adj Close'].rolling(window=20).mean()\n",
    "    \n",
    "    # set .std(ddof=0) for population std instead of sample\n",
    "    item['30 Day STD'] = item['Adj Close'].rolling(window=20).std() \n",
    "    \n",
    "    item['Upper Band'] = item['30 Day MA'] + (item['30 Day STD'] * 2)\n",
    "    item['Lower Band'] = item['30 Day MA'] - (item['30 Day STD'] * 2)\n",
    "\n",
    "# Simple 30 Day Bollinger Band for Facebook (2016-2017)\n",
    "fb[['Adj Close', '30 Day MA', 'Upper Band', 'Lower Band']].plot(figsize=(12,6))\n",
    "plt.title('30 Day Bollinger Band for Facebook')\n",
    "plt.ylabel('Price (USD)')\n",
    "plt.show();"
   ]
  },
  {
   "cell_type": "code",
   "execution_count": null,
   "metadata": {},
   "outputs": [],
   "source": []
  },
  {
   "cell_type": "code",
   "execution_count": null,
   "metadata": {},
   "outputs": [],
   "source": []
  },
  {
   "cell_type": "code",
   "execution_count": null,
   "metadata": {},
   "outputs": [],
   "source": []
  }
 ],
 "metadata": {
  "kernelspec": {
   "display_name": "Python 3",
   "language": "python",
   "name": "python3"
  },
  "language_info": {
   "codemirror_mode": {
    "name": "ipython",
    "version": 3
   },
   "file_extension": ".py",
   "mimetype": "text/x-python",
   "name": "python",
   "nbconvert_exporter": "python",
   "pygments_lexer": "ipython3",
   "version": "3.7.1"
  }
 },
 "nbformat": 4,
 "nbformat_minor": 2
}
